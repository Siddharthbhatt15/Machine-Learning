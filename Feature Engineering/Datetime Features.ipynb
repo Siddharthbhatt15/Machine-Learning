{
 "cells": [
  {
   "cell_type": "code",
   "execution_count": 1,
   "metadata": {},
   "outputs": [],
   "source": [
    "#Import required libraries\n",
    "import pandas as pd\n",
    "import warnings\n",
    "warnings.filterwarnings('ignore')"
   ]
  },
  {
   "cell_type": "code",
   "execution_count": 2,
   "metadata": {},
   "outputs": [],
   "source": [
    "#Reading a csv file\n",
    "df = pd.read_csv('No2.csv')"
   ]
  },
  {
   "cell_type": "code",
   "execution_count": 3,
   "metadata": {},
   "outputs": [
    {
     "data": {
      "text/plain": [
       "(4737, 2)"
      ]
     },
     "execution_count": 3,
     "metadata": {},
     "output_type": "execute_result"
    }
   ],
   "source": [
    "#Dimension of the dataframe\n",
    "df.shape"
   ]
  },
  {
   "cell_type": "code",
   "execution_count": 4,
   "metadata": {},
   "outputs": [
    {
     "data": {
      "text/html": [
       "<div>\n",
       "<style scoped>\n",
       "    .dataframe tbody tr th:only-of-type {\n",
       "        vertical-align: middle;\n",
       "    }\n",
       "\n",
       "    .dataframe tbody tr th {\n",
       "        vertical-align: top;\n",
       "    }\n",
       "\n",
       "    .dataframe thead th {\n",
       "        text-align: right;\n",
       "    }\n",
       "</style>\n",
       "<table border=\"1\" class=\"dataframe\">\n",
       "  <thead>\n",
       "    <tr style=\"text-align: right;\">\n",
       "      <th></th>\n",
       "      <th>Date_Time</th>\n",
       "      <th>NO2(GT)</th>\n",
       "    </tr>\n",
       "  </thead>\n",
       "  <tbody>\n",
       "    <tr>\n",
       "      <th>0</th>\n",
       "      <td>10/03/2004 18.00.00</td>\n",
       "      <td>166</td>\n",
       "    </tr>\n",
       "    <tr>\n",
       "      <th>1</th>\n",
       "      <td>10/03/2004 19.00.00</td>\n",
       "      <td>1174</td>\n",
       "    </tr>\n",
       "    <tr>\n",
       "      <th>2</th>\n",
       "      <td>10/03/2004 20.00.00</td>\n",
       "      <td>131</td>\n",
       "    </tr>\n",
       "    <tr>\n",
       "      <th>3</th>\n",
       "      <td>10/03/2004 21.00.00</td>\n",
       "      <td>172</td>\n",
       "    </tr>\n",
       "    <tr>\n",
       "      <th>4</th>\n",
       "      <td>10/03/2004 22.00.00</td>\n",
       "      <td>131</td>\n",
       "    </tr>\n",
       "  </tbody>\n",
       "</table>\n",
       "</div>"
      ],
      "text/plain": [
       "             Date_Time  NO2(GT)\n",
       "0  10/03/2004 18.00.00      166\n",
       "1  10/03/2004 19.00.00     1174\n",
       "2  10/03/2004 20.00.00      131\n",
       "3  10/03/2004 21.00.00      172\n",
       "4  10/03/2004 22.00.00      131"
      ]
     },
     "execution_count": 4,
     "metadata": {},
     "output_type": "execute_result"
    }
   ],
   "source": [
    "#First 5 rows of the dataframe\n",
    "df.head()"
   ]
  },
  {
   "cell_type": "code",
   "execution_count": 5,
   "metadata": {},
   "outputs": [
    {
     "data": {
      "text/plain": [
       "('01/04/2004 00.00.00', '31/08/2004 23.00.00')"
      ]
     },
     "execution_count": 5,
     "metadata": {},
     "output_type": "execute_result"
    }
   ],
   "source": [
    "df['Date_Time'].min(), df['Date_Time'].max()"
   ]
  },
  {
   "cell_type": "code",
   "execution_count": 6,
   "metadata": {},
   "outputs": [
    {
     "data": {
      "text/plain": [
       "Date_Time    object\n",
       "NO2(GT)       int64\n",
       "dtype: object"
      ]
     },
     "execution_count": 6,
     "metadata": {},
     "output_type": "execute_result"
    }
   ],
   "source": [
    "#Data type\n",
    "df.dtypes"
   ]
  },
  {
   "cell_type": "markdown",
   "metadata": {},
   "source": [
    "### Convert to DateTime"
   ]
  },
  {
   "cell_type": "code",
   "execution_count": 7,
   "metadata": {},
   "outputs": [
    {
     "data": {
      "text/plain": [
       "Date_Time    datetime64[ns]\n",
       "NO2(GT)               int64\n",
       "dtype: object"
      ]
     },
     "execution_count": 7,
     "metadata": {},
     "output_type": "execute_result"
    }
   ],
   "source": [
    "df['Date_Time'] = pd.to_datetime(df['Date_Time'], format='%d/%m/%Y %H.%M.%S')\n",
    "df.dtypes"
   ]
  },
  {
   "cell_type": "markdown",
   "metadata": {},
   "source": [
    "The format depends on your data. Here are a few examples\n",
    "\n",
    "1. **1/12/2001 :** %d/%m/%Y\n",
    "2. **2001/12/1 :** %Y/%m/%d\n",
    "3. **2001-12-01 :** %Y-%m-%d\n",
    "4. **2001-12-01 09:00 :** %Y-%m-%d %H:%M"
   ]
  },
  {
   "cell_type": "code",
   "execution_count": 8,
   "metadata": {},
   "outputs": [
    {
     "data": {
      "text/plain": [
       "(Timestamp('2004-03-10 18:00:00'), Timestamp('2004-09-24 02:00:00'))"
      ]
     },
     "execution_count": 8,
     "metadata": {},
     "output_type": "execute_result"
    }
   ],
   "source": [
    "df['Date_Time'].min(), df['Date_Time'].max()"
   ]
  },
  {
   "cell_type": "markdown",
   "metadata": {},
   "source": [
    "### Extract Hour and Minute"
   ]
  },
  {
   "cell_type": "code",
   "execution_count": 9,
   "metadata": {},
   "outputs": [
    {
     "data": {
      "text/plain": [
       "0    18\n",
       "1    19\n",
       "2    20\n",
       "3    21\n",
       "4    22\n",
       "Name: Date_Time, dtype: int64"
      ]
     },
     "execution_count": 9,
     "metadata": {},
     "output_type": "execute_result"
    }
   ],
   "source": [
    "#Extract Hours\n",
    "df['Date_Time'].dt.hour.head()"
   ]
  },
  {
   "cell_type": "code",
   "execution_count": 10,
   "metadata": {},
   "outputs": [
    {
     "data": {
      "text/plain": [
       "0       18\n",
       "1       19\n",
       "2       20\n",
       "3       21\n",
       "4       22\n",
       "        ..\n",
       "4732    22\n",
       "4733    23\n",
       "4734    00\n",
       "4735    01\n",
       "4736    02\n",
       "Name: Date_Time, Length: 4737, dtype: object"
      ]
     },
     "execution_count": 10,
     "metadata": {},
     "output_type": "execute_result"
    }
   ],
   "source": [
    "#Extract Hours\n",
    "df['Date_Time'].dt.strftime('%H')"
   ]
  },
  {
   "cell_type": "code",
   "execution_count": 11,
   "metadata": {},
   "outputs": [
    {
     "data": {
      "text/plain": [
       "0    0\n",
       "1    0\n",
       "2    0\n",
       "3    0\n",
       "4    0\n",
       "Name: Date_Time, dtype: int64"
      ]
     },
     "execution_count": 11,
     "metadata": {},
     "output_type": "execute_result"
    }
   ],
   "source": [
    "#Extract Minutes\n",
    "df['Date_Time'].dt.minute.head()"
   ]
  },
  {
   "cell_type": "code",
   "execution_count": 12,
   "metadata": {},
   "outputs": [
    {
     "data": {
      "text/plain": [
       "0       00\n",
       "1       00\n",
       "2       00\n",
       "3       00\n",
       "4       00\n",
       "        ..\n",
       "4732    00\n",
       "4733    00\n",
       "4734    00\n",
       "4735    00\n",
       "4736    00\n",
       "Name: Date_Time, Length: 4737, dtype: object"
      ]
     },
     "execution_count": 12,
     "metadata": {},
     "output_type": "execute_result"
    }
   ],
   "source": [
    "#Extract Minutes\n",
    "df['Date_Time'].dt.strftime('%M')"
   ]
  },
  {
   "cell_type": "markdown",
   "metadata": {},
   "source": [
    "### The day of week - Monday (0) to Sunday (6)"
   ]
  },
  {
   "cell_type": "code",
   "execution_count": 13,
   "metadata": {},
   "outputs": [
    {
     "data": {
      "text/plain": [
       "0    2\n",
       "1    2\n",
       "2    2\n",
       "3    2\n",
       "4    2\n",
       "5    2\n",
       "6    3\n",
       "Name: Date_Time, dtype: int64"
      ]
     },
     "execution_count": 13,
     "metadata": {},
     "output_type": "execute_result"
    }
   ],
   "source": [
    "#Extract day of the week\n",
    "df['Date_Time'].dt.dayofweek.head(7)"
   ]
  },
  {
   "cell_type": "code",
   "execution_count": 14,
   "metadata": {},
   "outputs": [
    {
     "data": {
      "text/plain": [
       "0    2\n",
       "1    2\n",
       "2    2\n",
       "3    2\n",
       "4    2\n",
       "5    2\n",
       "6    3\n",
       "Name: Date_Time, dtype: int64"
      ]
     },
     "execution_count": 14,
     "metadata": {},
     "output_type": "execute_result"
    }
   ],
   "source": [
    "#Extract day of the week\n",
    "df['Date_Time'].dt.weekday.head(7)"
   ]
  },
  {
   "cell_type": "code",
   "execution_count": 15,
   "metadata": {},
   "outputs": [
    {
     "data": {
      "text/plain": [
       "0       Wednesday\n",
       "1       Wednesday\n",
       "2       Wednesday\n",
       "3       Wednesday\n",
       "4       Wednesday\n",
       "          ...    \n",
       "4732     Thursday\n",
       "4733     Thursday\n",
       "4734       Friday\n",
       "4735       Friday\n",
       "4736       Friday\n",
       "Name: Date_Time, Length: 4737, dtype: object"
      ]
     },
     "execution_count": 15,
     "metadata": {},
     "output_type": "execute_result"
    }
   ],
   "source": [
    "#Extract day name\n",
    "df['Date_Time'].dt.strftime(\"%A\")"
   ]
  },
  {
   "cell_type": "code",
   "execution_count": 16,
   "metadata": {},
   "outputs": [
    {
     "data": {
      "text/plain": [
       "0       Wed\n",
       "1       Wed\n",
       "2       Wed\n",
       "3       Wed\n",
       "4       Wed\n",
       "       ... \n",
       "4732    Thu\n",
       "4733    Thu\n",
       "4734    Fri\n",
       "4735    Fri\n",
       "4736    Fri\n",
       "Name: Date_Time, Length: 4737, dtype: object"
      ]
     },
     "execution_count": 16,
     "metadata": {},
     "output_type": "execute_result"
    }
   ],
   "source": [
    "#Extract day name\n",
    "df['Date_Time'].dt.strftime(\"%a\")"
   ]
  },
  {
   "cell_type": "markdown",
   "metadata": {},
   "source": [
    "### Extracting the month from the date"
   ]
  },
  {
   "cell_type": "code",
   "execution_count": 17,
   "metadata": {},
   "outputs": [
    {
     "data": {
      "text/plain": [
       "0    3\n",
       "1    3\n",
       "2    3\n",
       "3    3\n",
       "4    3\n",
       "Name: Date_Time, dtype: int64"
      ]
     },
     "execution_count": 17,
     "metadata": {},
     "output_type": "execute_result"
    }
   ],
   "source": [
    "#Extract months\n",
    "df['Date_Time'].dt.month.head()"
   ]
  },
  {
   "cell_type": "code",
   "execution_count": 18,
   "metadata": {},
   "outputs": [
    {
     "data": {
      "text/plain": [
       "0       03\n",
       "1       03\n",
       "2       03\n",
       "3       03\n",
       "4       03\n",
       "        ..\n",
       "4732    09\n",
       "4733    09\n",
       "4734    09\n",
       "4735    09\n",
       "4736    09\n",
       "Name: Date_Time, Length: 4737, dtype: object"
      ]
     },
     "execution_count": 18,
     "metadata": {},
     "output_type": "execute_result"
    }
   ],
   "source": [
    "#Extract months\n",
    "df['Date_Time'].dt.strftime('%m')"
   ]
  },
  {
   "cell_type": "code",
   "execution_count": 19,
   "metadata": {},
   "outputs": [
    {
     "data": {
      "text/plain": [
       "0       False\n",
       "1       False\n",
       "2       False\n",
       "3       False\n",
       "4       False\n",
       "        ...  \n",
       "4732    False\n",
       "4733    False\n",
       "4734    False\n",
       "4735    False\n",
       "4736    False\n",
       "Name: Date_Time, Length: 4737, dtype: bool"
      ]
     },
     "execution_count": 19,
     "metadata": {},
     "output_type": "execute_result"
    }
   ],
   "source": [
    "#Check whether it is end of month or not\n",
    "df['Date_Time'].dt.is_month_end"
   ]
  },
  {
   "cell_type": "code",
   "execution_count": 20,
   "metadata": {},
   "outputs": [
    {
     "data": {
      "text/plain": [
       "0       False\n",
       "1       False\n",
       "2       False\n",
       "3       False\n",
       "4       False\n",
       "        ...  \n",
       "4732    False\n",
       "4733    False\n",
       "4734    False\n",
       "4735    False\n",
       "4736    False\n",
       "Name: Date_Time, Length: 4737, dtype: bool"
      ]
     },
     "execution_count": 20,
     "metadata": {},
     "output_type": "execute_result"
    }
   ],
   "source": [
    "#Check whether it is start of month or not\n",
    "df['Date_Time'].dt.is_month_start"
   ]
  },
  {
   "cell_type": "code",
   "execution_count": 21,
   "metadata": {},
   "outputs": [
    {
     "data": {
      "text/plain": [
       "0       False\n",
       "1       False\n",
       "2       False\n",
       "3       False\n",
       "4       False\n",
       "        ...  \n",
       "4732    False\n",
       "4733    False\n",
       "4734    False\n",
       "4735    False\n",
       "4736    False\n",
       "Name: Date_Time, Length: 4737, dtype: bool"
      ]
     },
     "execution_count": 21,
     "metadata": {},
     "output_type": "execute_result"
    }
   ],
   "source": [
    "#Check whether is is start of quarter or not\n",
    "df['Date_Time'].dt.is_quarter_start"
   ]
  },
  {
   "cell_type": "code",
   "execution_count": 22,
   "metadata": {},
   "outputs": [
    {
     "data": {
      "text/plain": [
       "0       False\n",
       "1       False\n",
       "2       False\n",
       "3       False\n",
       "4       False\n",
       "        ...  \n",
       "4732    False\n",
       "4733    False\n",
       "4734    False\n",
       "4735    False\n",
       "4736    False\n",
       "Name: Date_Time, Length: 4737, dtype: bool"
      ]
     },
     "execution_count": 22,
     "metadata": {},
     "output_type": "execute_result"
    }
   ],
   "source": [
    "#Check whether is is end of quarter or not\n",
    "df['Date_Time'].dt.is_quarter_end"
   ]
  },
  {
   "cell_type": "markdown",
   "metadata": {},
   "source": [
    "### Pull it all together"
   ]
  },
  {
   "cell_type": "code",
   "execution_count": 23,
   "metadata": {},
   "outputs": [
    {
     "data": {
      "text/html": [
       "<div>\n",
       "<style scoped>\n",
       "    .dataframe tbody tr th:only-of-type {\n",
       "        vertical-align: middle;\n",
       "    }\n",
       "\n",
       "    .dataframe tbody tr th {\n",
       "        vertical-align: top;\n",
       "    }\n",
       "\n",
       "    .dataframe thead th {\n",
       "        text-align: right;\n",
       "    }\n",
       "</style>\n",
       "<table border=\"1\" class=\"dataframe\">\n",
       "  <thead>\n",
       "    <tr style=\"text-align: right;\">\n",
       "      <th></th>\n",
       "      <th>year</th>\n",
       "      <th>month</th>\n",
       "      <th>day</th>\n",
       "      <th>hour</th>\n",
       "      <th>dayofyear</th>\n",
       "      <th>week</th>\n",
       "      <th>dayofweek</th>\n",
       "      <th>dayofweekname</th>\n",
       "      <th>quarter</th>\n",
       "    </tr>\n",
       "  </thead>\n",
       "  <tbody>\n",
       "    <tr>\n",
       "      <th>0</th>\n",
       "      <td>2004</td>\n",
       "      <td>3</td>\n",
       "      <td>10</td>\n",
       "      <td>18</td>\n",
       "      <td>70</td>\n",
       "      <td>11</td>\n",
       "      <td>2</td>\n",
       "      <td>Wednesday</td>\n",
       "      <td>1</td>\n",
       "    </tr>\n",
       "    <tr>\n",
       "      <th>1</th>\n",
       "      <td>2004</td>\n",
       "      <td>3</td>\n",
       "      <td>10</td>\n",
       "      <td>19</td>\n",
       "      <td>70</td>\n",
       "      <td>11</td>\n",
       "      <td>2</td>\n",
       "      <td>Wednesday</td>\n",
       "      <td>1</td>\n",
       "    </tr>\n",
       "    <tr>\n",
       "      <th>2</th>\n",
       "      <td>2004</td>\n",
       "      <td>3</td>\n",
       "      <td>10</td>\n",
       "      <td>20</td>\n",
       "      <td>70</td>\n",
       "      <td>11</td>\n",
       "      <td>2</td>\n",
       "      <td>Wednesday</td>\n",
       "      <td>1</td>\n",
       "    </tr>\n",
       "    <tr>\n",
       "      <th>3</th>\n",
       "      <td>2004</td>\n",
       "      <td>3</td>\n",
       "      <td>10</td>\n",
       "      <td>21</td>\n",
       "      <td>70</td>\n",
       "      <td>11</td>\n",
       "      <td>2</td>\n",
       "      <td>Wednesday</td>\n",
       "      <td>1</td>\n",
       "    </tr>\n",
       "    <tr>\n",
       "      <th>4</th>\n",
       "      <td>2004</td>\n",
       "      <td>3</td>\n",
       "      <td>10</td>\n",
       "      <td>22</td>\n",
       "      <td>70</td>\n",
       "      <td>11</td>\n",
       "      <td>2</td>\n",
       "      <td>Wednesday</td>\n",
       "      <td>1</td>\n",
       "    </tr>\n",
       "  </tbody>\n",
       "</table>\n",
       "</div>"
      ],
      "text/plain": [
       "   year  month  day  hour  dayofyear  week  dayofweek dayofweekname  quarter\n",
       "0  2004      3   10    18         70    11          2     Wednesday        1\n",
       "1  2004      3   10    19         70    11          2     Wednesday        1\n",
       "2  2004      3   10    20         70    11          2     Wednesday        1\n",
       "3  2004      3   10    21         70    11          2     Wednesday        1\n",
       "4  2004      3   10    22         70    11          2     Wednesday        1"
      ]
     },
     "execution_count": 23,
     "metadata": {},
     "output_type": "execute_result"
    }
   ],
   "source": [
    "new_df = pd.DataFrame({'year' : df['Date_Time'].dt.year,\n",
    "                      'month' : df['Date_Time'].dt.month,\n",
    "                      'day' : df['Date_Time'].dt.day,\n",
    "                      'hour' : df['Date_Time'].dt.hour,\n",
    "                      'dayofyear' : df['Date_Time'].dt.dayofyear,\n",
    "                      'week' : df['Date_Time'].dt.week,\n",
    "                      'dayofweek' : df['Date_Time'].dt.dayofweek,\n",
    "                      'dayofweekname' : df['Date_Time'].dt.strftime('%A'),\n",
    "                      'quarter' : df['Date_Time'].dt.quarter})\n",
    "new_df.head()"
   ]
  },
  {
   "cell_type": "code",
   "execution_count": 24,
   "metadata": {},
   "outputs": [
    {
     "data": {
      "text/html": [
       "<div>\n",
       "<style scoped>\n",
       "    .dataframe tbody tr th:only-of-type {\n",
       "        vertical-align: middle;\n",
       "    }\n",
       "\n",
       "    .dataframe tbody tr th {\n",
       "        vertical-align: top;\n",
       "    }\n",
       "\n",
       "    .dataframe thead th {\n",
       "        text-align: right;\n",
       "    }\n",
       "</style>\n",
       "<table border=\"1\" class=\"dataframe\">\n",
       "  <thead>\n",
       "    <tr style=\"text-align: right;\">\n",
       "      <th></th>\n",
       "      <th>Date_Time</th>\n",
       "      <th>NO2(GT)</th>\n",
       "      <th>year</th>\n",
       "      <th>month</th>\n",
       "      <th>day</th>\n",
       "      <th>hour</th>\n",
       "      <th>dayofyear</th>\n",
       "      <th>week</th>\n",
       "      <th>dayofweek</th>\n",
       "      <th>dayofweekname</th>\n",
       "      <th>quarter</th>\n",
       "    </tr>\n",
       "  </thead>\n",
       "  <tbody>\n",
       "    <tr>\n",
       "      <th>0</th>\n",
       "      <td>2004-03-10 18:00:00</td>\n",
       "      <td>166</td>\n",
       "      <td>2004</td>\n",
       "      <td>3</td>\n",
       "      <td>10</td>\n",
       "      <td>18</td>\n",
       "      <td>70</td>\n",
       "      <td>11</td>\n",
       "      <td>2</td>\n",
       "      <td>Wednesday</td>\n",
       "      <td>1</td>\n",
       "    </tr>\n",
       "    <tr>\n",
       "      <th>1</th>\n",
       "      <td>2004-03-10 19:00:00</td>\n",
       "      <td>1174</td>\n",
       "      <td>2004</td>\n",
       "      <td>3</td>\n",
       "      <td>10</td>\n",
       "      <td>19</td>\n",
       "      <td>70</td>\n",
       "      <td>11</td>\n",
       "      <td>2</td>\n",
       "      <td>Wednesday</td>\n",
       "      <td>1</td>\n",
       "    </tr>\n",
       "    <tr>\n",
       "      <th>2</th>\n",
       "      <td>2004-03-10 20:00:00</td>\n",
       "      <td>131</td>\n",
       "      <td>2004</td>\n",
       "      <td>3</td>\n",
       "      <td>10</td>\n",
       "      <td>20</td>\n",
       "      <td>70</td>\n",
       "      <td>11</td>\n",
       "      <td>2</td>\n",
       "      <td>Wednesday</td>\n",
       "      <td>1</td>\n",
       "    </tr>\n",
       "    <tr>\n",
       "      <th>3</th>\n",
       "      <td>2004-03-10 21:00:00</td>\n",
       "      <td>172</td>\n",
       "      <td>2004</td>\n",
       "      <td>3</td>\n",
       "      <td>10</td>\n",
       "      <td>21</td>\n",
       "      <td>70</td>\n",
       "      <td>11</td>\n",
       "      <td>2</td>\n",
       "      <td>Wednesday</td>\n",
       "      <td>1</td>\n",
       "    </tr>\n",
       "    <tr>\n",
       "      <th>4</th>\n",
       "      <td>2004-03-10 22:00:00</td>\n",
       "      <td>131</td>\n",
       "      <td>2004</td>\n",
       "      <td>3</td>\n",
       "      <td>10</td>\n",
       "      <td>22</td>\n",
       "      <td>70</td>\n",
       "      <td>11</td>\n",
       "      <td>2</td>\n",
       "      <td>Wednesday</td>\n",
       "      <td>1</td>\n",
       "    </tr>\n",
       "    <tr>\n",
       "      <th>5</th>\n",
       "      <td>2004-03-10 23:00:00</td>\n",
       "      <td>89</td>\n",
       "      <td>2004</td>\n",
       "      <td>3</td>\n",
       "      <td>10</td>\n",
       "      <td>23</td>\n",
       "      <td>70</td>\n",
       "      <td>11</td>\n",
       "      <td>2</td>\n",
       "      <td>Wednesday</td>\n",
       "      <td>1</td>\n",
       "    </tr>\n",
       "    <tr>\n",
       "      <th>6</th>\n",
       "      <td>2004-03-11 00:00:00</td>\n",
       "      <td>62</td>\n",
       "      <td>2004</td>\n",
       "      <td>3</td>\n",
       "      <td>11</td>\n",
       "      <td>0</td>\n",
       "      <td>71</td>\n",
       "      <td>11</td>\n",
       "      <td>3</td>\n",
       "      <td>Thursday</td>\n",
       "      <td>1</td>\n",
       "    </tr>\n",
       "    <tr>\n",
       "      <th>7</th>\n",
       "      <td>2004-03-11 01:00:00</td>\n",
       "      <td>1453</td>\n",
       "      <td>2004</td>\n",
       "      <td>3</td>\n",
       "      <td>11</td>\n",
       "      <td>1</td>\n",
       "      <td>71</td>\n",
       "      <td>11</td>\n",
       "      <td>3</td>\n",
       "      <td>Thursday</td>\n",
       "      <td>1</td>\n",
       "    </tr>\n",
       "    <tr>\n",
       "      <th>8</th>\n",
       "      <td>2004-03-11 02:00:00</td>\n",
       "      <td>45</td>\n",
       "      <td>2004</td>\n",
       "      <td>3</td>\n",
       "      <td>11</td>\n",
       "      <td>2</td>\n",
       "      <td>71</td>\n",
       "      <td>11</td>\n",
       "      <td>3</td>\n",
       "      <td>Thursday</td>\n",
       "      <td>1</td>\n",
       "    </tr>\n",
       "    <tr>\n",
       "      <th>9</th>\n",
       "      <td>2004-03-11 03:00:00</td>\n",
       "      <td>-200</td>\n",
       "      <td>2004</td>\n",
       "      <td>3</td>\n",
       "      <td>11</td>\n",
       "      <td>3</td>\n",
       "      <td>71</td>\n",
       "      <td>11</td>\n",
       "      <td>3</td>\n",
       "      <td>Thursday</td>\n",
       "      <td>1</td>\n",
       "    </tr>\n",
       "  </tbody>\n",
       "</table>\n",
       "</div>"
      ],
      "text/plain": [
       "            Date_Time  NO2(GT)  year  month  day  hour  dayofyear  week  \\\n",
       "0 2004-03-10 18:00:00      166  2004      3   10    18         70    11   \n",
       "1 2004-03-10 19:00:00     1174  2004      3   10    19         70    11   \n",
       "2 2004-03-10 20:00:00      131  2004      3   10    20         70    11   \n",
       "3 2004-03-10 21:00:00      172  2004      3   10    21         70    11   \n",
       "4 2004-03-10 22:00:00      131  2004      3   10    22         70    11   \n",
       "5 2004-03-10 23:00:00       89  2004      3   10    23         70    11   \n",
       "6 2004-03-11 00:00:00       62  2004      3   11     0         71    11   \n",
       "7 2004-03-11 01:00:00     1453  2004      3   11     1         71    11   \n",
       "8 2004-03-11 02:00:00       45  2004      3   11     2         71    11   \n",
       "9 2004-03-11 03:00:00     -200  2004      3   11     3         71    11   \n",
       "\n",
       "   dayofweek dayofweekname  quarter  \n",
       "0          2     Wednesday        1  \n",
       "1          2     Wednesday        1  \n",
       "2          2     Wednesday        1  \n",
       "3          2     Wednesday        1  \n",
       "4          2     Wednesday        1  \n",
       "5          2     Wednesday        1  \n",
       "6          3      Thursday        1  \n",
       "7          3      Thursday        1  \n",
       "8          3      Thursday        1  \n",
       "9          3      Thursday        1  "
      ]
     },
     "execution_count": 24,
     "metadata": {},
     "output_type": "execute_result"
    }
   ],
   "source": [
    "final_df = pd.concat([df, new_df], axis=1)\n",
    "final_df.head(10)"
   ]
  },
  {
   "cell_type": "markdown",
   "metadata": {},
   "source": [
    "### is_weekday? (Create using the dayofweek numbers)"
   ]
  },
  {
   "cell_type": "code",
   "execution_count": 25,
   "metadata": {},
   "outputs": [],
   "source": [
    "#Check whether it is weekday or not and store answer in newly created column\n",
    "final_df['is_weekday'] = 0\n",
    "\n",
    "for i in range(0, len(final_df)):\n",
    "    if ((final_df['dayofweek'][i] == 5) | (final_df['dayofweek'][i] == 6)):\n",
    "        final_df['is_weekday'][i] = 0\n",
    "    else:\n",
    "        final_df['is_weekday'][i] = 1"
   ]
  },
  {
   "cell_type": "code",
   "execution_count": 26,
   "metadata": {},
   "outputs": [
    {
     "data": {
      "text/html": [
       "<div>\n",
       "<style scoped>\n",
       "    .dataframe tbody tr th:only-of-type {\n",
       "        vertical-align: middle;\n",
       "    }\n",
       "\n",
       "    .dataframe tbody tr th {\n",
       "        vertical-align: top;\n",
       "    }\n",
       "\n",
       "    .dataframe thead th {\n",
       "        text-align: right;\n",
       "    }\n",
       "</style>\n",
       "<table border=\"1\" class=\"dataframe\">\n",
       "  <thead>\n",
       "    <tr style=\"text-align: right;\">\n",
       "      <th></th>\n",
       "      <th>dayofweek</th>\n",
       "      <th>is_weekday</th>\n",
       "    </tr>\n",
       "  </thead>\n",
       "  <tbody>\n",
       "    <tr>\n",
       "      <th>0</th>\n",
       "      <td>2</td>\n",
       "      <td>1</td>\n",
       "    </tr>\n",
       "    <tr>\n",
       "      <th>1</th>\n",
       "      <td>2</td>\n",
       "      <td>1</td>\n",
       "    </tr>\n",
       "    <tr>\n",
       "      <th>2</th>\n",
       "      <td>2</td>\n",
       "      <td>1</td>\n",
       "    </tr>\n",
       "    <tr>\n",
       "      <th>3</th>\n",
       "      <td>2</td>\n",
       "      <td>1</td>\n",
       "    </tr>\n",
       "    <tr>\n",
       "      <th>4</th>\n",
       "      <td>2</td>\n",
       "      <td>1</td>\n",
       "    </tr>\n",
       "  </tbody>\n",
       "</table>\n",
       "</div>"
      ],
      "text/plain": [
       "   dayofweek  is_weekday\n",
       "0          2           1\n",
       "1          2           1\n",
       "2          2           1\n",
       "3          2           1\n",
       "4          2           1"
      ]
     },
     "execution_count": 26,
     "metadata": {},
     "output_type": "execute_result"
    }
   ],
   "source": [
    "final_df[['dayofweek', 'is_weekday']].head()"
   ]
  }
 ],
 "metadata": {
  "kernelspec": {
   "display_name": "Python 3",
   "language": "python",
   "name": "python3"
  },
  "language_info": {
   "codemirror_mode": {
    "name": "ipython",
    "version": 3
   },
   "file_extension": ".py",
   "mimetype": "text/x-python",
   "name": "python",
   "nbconvert_exporter": "python",
   "pygments_lexer": "ipython3",
   "version": "3.8.3"
  }
 },
 "nbformat": 4,
 "nbformat_minor": 4
}
