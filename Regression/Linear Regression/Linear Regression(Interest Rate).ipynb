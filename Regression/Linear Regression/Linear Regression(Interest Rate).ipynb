{
 "cells": [
  {
   "cell_type": "markdown",
   "metadata": {},
   "source": [
    "# Business Problem\n",
    "\n",
    "The bank want to build a model such that bank can give a variable rate of intrest to some people.\n",
    "This model will be implemented on bulk but bank done a proof of concept and collected data for\n",
    "some people. Now using this data we have to build a machine learning model which can help us\n",
    "to predict the Interest Rate.\n",
    "\n",
    "Now we are having data for many variables such as Amount Requested,Amount Funded By\n",
    "Investors,Interest Rate,Loan Length,Loan Purpose,Debt To Income Ratio,Home\n",
    "Ownership,Monthly Income,Open CREDIT Lines,Revolving CREDIT Balance,Inquiries in the\n",
    "Last 6 Months,Employment Length.\n",
    "\n",
    "Now we have to use this information to make prediction on what should be the Interest Rate.\n",
    "The task now is to predict such a loan rate given the data.\n",
    "Have you ever thought you get a different interest rate than your friend when you borrow\n",
    "personal loan.\n",
    "\n",
    "# Solution Approach:\n",
    "As we need to predict Interest Rate, which is continuous in nature, Linear Regression can be used for\n",
    "prediction"
   ]
  },
  {
   "cell_type": "markdown",
   "metadata": {},
   "source": [
    "## Step 1: Loading the Data"
   ]
  },
  {
   "cell_type": "code",
   "execution_count": 1,
   "metadata": {},
   "outputs": [],
   "source": [
    "#Importing libraries\n",
    "import numpy as np\n",
    "import pandas as pd\n",
    "import seaborn as sns\n",
    "import matplotlib.pyplot as plt"
   ]
  },
  {
   "cell_type": "code",
   "execution_count": 2,
   "metadata": {},
   "outputs": [],
   "source": [
    "#Reading a csv file\n",
    "df = pd.read_csv('loan_data.csv')"
   ]
  },
  {
   "cell_type": "code",
   "execution_count": 3,
   "metadata": {},
   "outputs": [
    {
     "data": {
      "text/plain": [
       "(2500, 13)"
      ]
     },
     "execution_count": 3,
     "metadata": {},
     "output_type": "execute_result"
    }
   ],
   "source": [
    "#Dimensions of the data\n",
    "df.shape"
   ]
  },
  {
   "cell_type": "code",
   "execution_count": 4,
   "metadata": {},
   "outputs": [
    {
     "data": {
      "text/html": [
       "<div>\n",
       "<style scoped>\n",
       "    .dataframe tbody tr th:only-of-type {\n",
       "        vertical-align: middle;\n",
       "    }\n",
       "\n",
       "    .dataframe tbody tr th {\n",
       "        vertical-align: top;\n",
       "    }\n",
       "\n",
       "    .dataframe thead th {\n",
       "        text-align: right;\n",
       "    }\n",
       "</style>\n",
       "<table border=\"1\" class=\"dataframe\">\n",
       "  <thead>\n",
       "    <tr style=\"text-align: right;\">\n",
       "      <th></th>\n",
       "      <th>ID</th>\n",
       "      <th>Amount.Requested</th>\n",
       "      <th>Amount.Funded.By.Investors</th>\n",
       "      <th>Interest.Rate</th>\n",
       "      <th>Loan.Length</th>\n",
       "      <th>Loan.Purpose</th>\n",
       "      <th>Debt.To.Income.Ratio</th>\n",
       "      <th>Home.Ownership</th>\n",
       "      <th>Monthly.Income</th>\n",
       "      <th>Open.CREDIT.Lines</th>\n",
       "      <th>Revolving.CREDIT.Balance</th>\n",
       "      <th>Inquiries.in.the.Last.6.Months</th>\n",
       "      <th>Employment.Length</th>\n",
       "    </tr>\n",
       "  </thead>\n",
       "  <tbody>\n",
       "    <tr>\n",
       "      <th>0</th>\n",
       "      <td>81174.0</td>\n",
       "      <td>20000</td>\n",
       "      <td>20000.0</td>\n",
       "      <td>0.09</td>\n",
       "      <td>36 months</td>\n",
       "      <td>debt_consolidation</td>\n",
       "      <td>0.15</td>\n",
       "      <td>MORTGAGE</td>\n",
       "      <td>6541.67</td>\n",
       "      <td>14</td>\n",
       "      <td>14272</td>\n",
       "      <td>2</td>\n",
       "      <td>1 year</td>\n",
       "    </tr>\n",
       "    <tr>\n",
       "      <th>1</th>\n",
       "      <td>99592.0</td>\n",
       "      <td>19200</td>\n",
       "      <td>19200.0</td>\n",
       "      <td>0.12</td>\n",
       "      <td>36 months</td>\n",
       "      <td>debt_consolidation</td>\n",
       "      <td>0.28</td>\n",
       "      <td>MORTGAGE</td>\n",
       "      <td>4583.33</td>\n",
       "      <td>12</td>\n",
       "      <td>11140</td>\n",
       "      <td>1</td>\n",
       "      <td>2 years</td>\n",
       "    </tr>\n",
       "    <tr>\n",
       "      <th>2</th>\n",
       "      <td>80059.0</td>\n",
       "      <td>35000</td>\n",
       "      <td>35000.0</td>\n",
       "      <td>0.22</td>\n",
       "      <td>60 months</td>\n",
       "      <td>debt_consolidation</td>\n",
       "      <td>0.24</td>\n",
       "      <td>MORTGAGE</td>\n",
       "      <td>11500.00</td>\n",
       "      <td>14</td>\n",
       "      <td>21977</td>\n",
       "      <td>1</td>\n",
       "      <td>2 years</td>\n",
       "    </tr>\n",
       "    <tr>\n",
       "      <th>3</th>\n",
       "      <td>15825.0</td>\n",
       "      <td>10000</td>\n",
       "      <td>9975.0</td>\n",
       "      <td>0.10</td>\n",
       "      <td>36 months</td>\n",
       "      <td>debt_consolidation</td>\n",
       "      <td>0.14</td>\n",
       "      <td>MORTGAGE</td>\n",
       "      <td>3833.33</td>\n",
       "      <td>10</td>\n",
       "      <td>9346</td>\n",
       "      <td>0</td>\n",
       "      <td>5 years</td>\n",
       "    </tr>\n",
       "    <tr>\n",
       "      <th>4</th>\n",
       "      <td>33182.0</td>\n",
       "      <td>12000</td>\n",
       "      <td>12000.0</td>\n",
       "      <td>0.12</td>\n",
       "      <td>36 months</td>\n",
       "      <td>credit_card</td>\n",
       "      <td>0.19</td>\n",
       "      <td>RENT</td>\n",
       "      <td>3195.00</td>\n",
       "      <td>11</td>\n",
       "      <td>14469</td>\n",
       "      <td>0</td>\n",
       "      <td>9 years</td>\n",
       "    </tr>\n",
       "    <tr>\n",
       "      <th>5</th>\n",
       "      <td>62403.0</td>\n",
       "      <td>6000</td>\n",
       "      <td>6000.0</td>\n",
       "      <td>0.15</td>\n",
       "      <td>36 months</td>\n",
       "      <td>other</td>\n",
       "      <td>0.20</td>\n",
       "      <td>OWN</td>\n",
       "      <td>4891.67</td>\n",
       "      <td>17</td>\n",
       "      <td>10391</td>\n",
       "      <td>2</td>\n",
       "      <td>3 years</td>\n",
       "    </tr>\n",
       "    <tr>\n",
       "      <th>6</th>\n",
       "      <td>48808.0</td>\n",
       "      <td>10000</td>\n",
       "      <td>10000.0</td>\n",
       "      <td>0.08</td>\n",
       "      <td>36 months</td>\n",
       "      <td>debt_consolidation</td>\n",
       "      <td>0.26</td>\n",
       "      <td>RENT</td>\n",
       "      <td>2916.67</td>\n",
       "      <td>10</td>\n",
       "      <td>15957</td>\n",
       "      <td>0</td>\n",
       "      <td>10+ years</td>\n",
       "    </tr>\n",
       "    <tr>\n",
       "      <th>7</th>\n",
       "      <td>22090.0</td>\n",
       "      <td>33500</td>\n",
       "      <td>33450.0</td>\n",
       "      <td>0.17</td>\n",
       "      <td>60 months</td>\n",
       "      <td>credit_card</td>\n",
       "      <td>0.15</td>\n",
       "      <td>MORTGAGE</td>\n",
       "      <td>13863.42</td>\n",
       "      <td>12</td>\n",
       "      <td>27874</td>\n",
       "      <td>0</td>\n",
       "      <td>10+ years</td>\n",
       "    </tr>\n",
       "    <tr>\n",
       "      <th>8</th>\n",
       "      <td>76404.0</td>\n",
       "      <td>14675</td>\n",
       "      <td>14675.0</td>\n",
       "      <td>0.14</td>\n",
       "      <td>36 months</td>\n",
       "      <td>credit_card</td>\n",
       "      <td>0.27</td>\n",
       "      <td>RENT</td>\n",
       "      <td>3150.00</td>\n",
       "      <td>9</td>\n",
       "      <td>7246</td>\n",
       "      <td>1</td>\n",
       "      <td>8 years</td>\n",
       "    </tr>\n",
       "    <tr>\n",
       "      <th>9</th>\n",
       "      <td>15867.0</td>\n",
       "      <td>1000</td>\n",
       "      <td>7000.0</td>\n",
       "      <td>0.07</td>\n",
       "      <td>36 months</td>\n",
       "      <td>credit_card</td>\n",
       "      <td>0.07</td>\n",
       "      <td>RENT</td>\n",
       "      <td>5000.00</td>\n",
       "      <td>8</td>\n",
       "      <td>7612</td>\n",
       "      <td>0</td>\n",
       "      <td>3 years</td>\n",
       "    </tr>\n",
       "  </tbody>\n",
       "</table>\n",
       "</div>"
      ],
      "text/plain": [
       "        ID  Amount.Requested  Amount.Funded.By.Investors  Interest.Rate  \\\n",
       "0  81174.0             20000                     20000.0           0.09   \n",
       "1  99592.0             19200                     19200.0           0.12   \n",
       "2  80059.0             35000                     35000.0           0.22   \n",
       "3  15825.0             10000                      9975.0           0.10   \n",
       "4  33182.0             12000                     12000.0           0.12   \n",
       "5  62403.0              6000                      6000.0           0.15   \n",
       "6  48808.0             10000                     10000.0           0.08   \n",
       "7  22090.0             33500                     33450.0           0.17   \n",
       "8  76404.0             14675                     14675.0           0.14   \n",
       "9  15867.0              1000                      7000.0           0.07   \n",
       "\n",
       "  Loan.Length        Loan.Purpose  Debt.To.Income.Ratio Home.Ownership  \\\n",
       "0   36 months  debt_consolidation                  0.15       MORTGAGE   \n",
       "1   36 months  debt_consolidation                  0.28       MORTGAGE   \n",
       "2   60 months  debt_consolidation                  0.24       MORTGAGE   \n",
       "3   36 months  debt_consolidation                  0.14       MORTGAGE   \n",
       "4   36 months         credit_card                  0.19           RENT   \n",
       "5   36 months               other                  0.20            OWN   \n",
       "6   36 months  debt_consolidation                  0.26           RENT   \n",
       "7   60 months         credit_card                  0.15       MORTGAGE   \n",
       "8   36 months         credit_card                  0.27           RENT   \n",
       "9   36 months         credit_card                  0.07           RENT   \n",
       "\n",
       "   Monthly.Income  Open.CREDIT.Lines  Revolving.CREDIT.Balance  \\\n",
       "0         6541.67                 14                     14272   \n",
       "1         4583.33                 12                     11140   \n",
       "2        11500.00                 14                     21977   \n",
       "3         3833.33                 10                      9346   \n",
       "4         3195.00                 11                     14469   \n",
       "5         4891.67                 17                     10391   \n",
       "6         2916.67                 10                     15957   \n",
       "7        13863.42                 12                     27874   \n",
       "8         3150.00                  9                      7246   \n",
       "9         5000.00                  8                      7612   \n",
       "\n",
       "   Inquiries.in.the.Last.6.Months Employment.Length  \n",
       "0                               2            1 year  \n",
       "1                               1           2 years  \n",
       "2                               1           2 years  \n",
       "3                               0           5 years  \n",
       "4                               0           9 years  \n",
       "5                               2           3 years  \n",
       "6                               0         10+ years  \n",
       "7                               0         10+ years  \n",
       "8                               1           8 years  \n",
       "9                               0           3 years  "
      ]
     },
     "execution_count": 4,
     "metadata": {},
     "output_type": "execute_result"
    }
   ],
   "source": [
    "#First 10 rows of the data\n",
    "df.head(10)"
   ]
  },
  {
   "cell_type": "code",
   "execution_count": 5,
   "metadata": {
    "scrolled": true
   },
   "outputs": [
    {
     "name": "stdout",
     "output_type": "stream",
     "text": [
      "<class 'pandas.core.frame.DataFrame'>\n",
      "RangeIndex: 2500 entries, 0 to 2499\n",
      "Data columns (total 13 columns):\n",
      " #   Column                          Non-Null Count  Dtype  \n",
      "---  ------                          --------------  -----  \n",
      " 0   ID                              2499 non-null   float64\n",
      " 1   Amount.Requested                2500 non-null   int64  \n",
      " 2   Amount.Funded.By.Investors      2500 non-null   float64\n",
      " 3   Interest.Rate                   2500 non-null   float64\n",
      " 4   Loan.Length                     2499 non-null   object \n",
      " 5   Loan.Purpose                    2499 non-null   object \n",
      " 6   Debt.To.Income.Ratio            2500 non-null   float64\n",
      " 7   Home.Ownership                  2499 non-null   object \n",
      " 8   Monthly.Income                  2500 non-null   float64\n",
      " 9   Open.CREDIT.Lines               2500 non-null   int64  \n",
      " 10  Revolving.CREDIT.Balance        2500 non-null   int64  \n",
      " 11  Inquiries.in.the.Last.6.Months  2500 non-null   int64  \n",
      " 12  Employment.Length               2422 non-null   object \n",
      "dtypes: float64(5), int64(4), object(4)\n",
      "memory usage: 254.0+ KB\n"
     ]
    }
   ],
   "source": [
    "#Data Types of variables\n",
    "df.info()"
   ]
  },
  {
   "cell_type": "markdown",
   "metadata": {},
   "source": [
    "## Step 2: Data Exploration and Visualization"
   ]
  },
  {
   "cell_type": "code",
   "execution_count": 6,
   "metadata": {},
   "outputs": [
    {
     "data": {
      "text/plain": [
       "ID                                 1\n",
       "Amount.Requested                   0\n",
       "Amount.Funded.By.Investors         0\n",
       "Interest.Rate                      0\n",
       "Loan.Length                        1\n",
       "Loan.Purpose                       1\n",
       "Debt.To.Income.Ratio               0\n",
       "Home.Ownership                     1\n",
       "Monthly.Income                     0\n",
       "Open.CREDIT.Lines                  0\n",
       "Revolving.CREDIT.Balance           0\n",
       "Inquiries.in.the.Last.6.Months     0\n",
       "Employment.Length                 78\n",
       "dtype: int64"
      ]
     },
     "execution_count": 6,
     "metadata": {},
     "output_type": "execute_result"
    }
   ],
   "source": [
    "#Check for a missing values\n",
    "df.isnull().sum()"
   ]
  },
  {
   "cell_type": "code",
   "execution_count": 7,
   "metadata": {},
   "outputs": [],
   "source": [
    "#Drop all the rows which contails missing values\n",
    "df.dropna(how='any', inplace=True)"
   ]
  },
  {
   "cell_type": "code",
   "execution_count": 8,
   "metadata": {},
   "outputs": [
    {
     "data": {
      "text/plain": [
       "ID                                0\n",
       "Amount.Requested                  0\n",
       "Amount.Funded.By.Investors        0\n",
       "Interest.Rate                     0\n",
       "Loan.Length                       0\n",
       "Loan.Purpose                      0\n",
       "Debt.To.Income.Ratio              0\n",
       "Home.Ownership                    0\n",
       "Monthly.Income                    0\n",
       "Open.CREDIT.Lines                 0\n",
       "Revolving.CREDIT.Balance          0\n",
       "Inquiries.in.the.Last.6.Months    0\n",
       "Employment.Length                 0\n",
       "dtype: int64"
      ]
     },
     "execution_count": 8,
     "metadata": {},
     "output_type": "execute_result"
    }
   ],
   "source": [
    "#Let's verify if dataframe contains any missing values or not\n",
    "df.isnull().sum()"
   ]
  },
  {
   "cell_type": "code",
   "execution_count": 9,
   "metadata": {},
   "outputs": [],
   "source": [
    "#Delete the ID column because it is unnecessary\n",
    "df.drop('ID', inplace=True, axis=1)"
   ]
  },
  {
   "cell_type": "markdown",
   "metadata": {},
   "source": [
    "### Frequency table"
   ]
  },
  {
   "cell_type": "code",
   "execution_count": 10,
   "metadata": {},
   "outputs": [
    {
     "data": {
      "text/plain": [
       "36 months    1881\n",
       "60 months     536\n",
       ".               1\n",
       "Name: Loan.Length, dtype: int64"
      ]
     },
     "execution_count": 10,
     "metadata": {},
     "output_type": "execute_result"
    }
   ],
   "source": [
    "#Frequency table for Loan.Length variable\n",
    "df['Loan.Length'].value_counts()"
   ]
  },
  {
   "cell_type": "code",
   "execution_count": 11,
   "metadata": {},
   "outputs": [],
   "source": [
    "#Replace categories in Loan.Length   (. -> 36 months)\n",
    "df['Loan.Length'].replace({'.' : '36 months'}, inplace=True)"
   ]
  },
  {
   "cell_type": "code",
   "execution_count": 12,
   "metadata": {},
   "outputs": [
    {
     "data": {
      "text/plain": [
       "debt_consolidation    1266\n",
       "credit_card            430\n",
       "other                  188\n",
       "home_improvement       147\n",
       "major_purchase         100\n",
       "small_business          84\n",
       "car                     50\n",
       "wedding                 38\n",
       "moving                  29\n",
       "medical                 28\n",
       "house                   20\n",
       "vacation                20\n",
       "educational             14\n",
       "renewable_energy         4\n",
       "Name: Loan.Purpose, dtype: int64"
      ]
     },
     "execution_count": 12,
     "metadata": {},
     "output_type": "execute_result"
    }
   ],
   "source": [
    "#Frequency table for Loan.Purpose variable\n",
    "df['Loan.Purpose'].value_counts()"
   ]
  },
  {
   "cell_type": "code",
   "execution_count": 13,
   "metadata": {
    "scrolled": true
   },
   "outputs": [
    {
     "data": {
      "text/plain": [
       "RENT        1114\n",
       "MORTGAGE    1111\n",
       "OWN          187\n",
       "OTHER          5\n",
       "NONE           1\n",
       "Name: Home.Ownership, dtype: int64"
      ]
     },
     "execution_count": 13,
     "metadata": {},
     "output_type": "execute_result"
    }
   ],
   "source": [
    "#Frequency table for Home.Ownership\n",
    "df['Home.Ownership'].value_counts()"
   ]
  },
  {
   "cell_type": "code",
   "execution_count": 14,
   "metadata": {},
   "outputs": [],
   "source": [
    "#Replace category in Home.Ownership   (NONE  -->  RENT)\n",
    "df['Home.Ownership'].replace({'NONE' : 'RENT'}, inplace=True)"
   ]
  },
  {
   "cell_type": "code",
   "execution_count": 15,
   "metadata": {},
   "outputs": [
    {
     "data": {
      "text/plain": [
       "10+ years    652\n",
       "1 year       427\n",
       "2 years      243\n",
       "3 years      235\n",
       "5 years      202\n",
       "4 years      190\n",
       "6 years      162\n",
       "7 years      127\n",
       "8 years      108\n",
       "9 years       72\n",
       "Name: Employment.Length, dtype: int64"
      ]
     },
     "execution_count": 15,
     "metadata": {},
     "output_type": "execute_result"
    }
   ],
   "source": [
    "df['Employment.Length'].value_counts()"
   ]
  },
  {
   "cell_type": "markdown",
   "metadata": {},
   "source": [
    "### Univariate Analysis"
   ]
  },
  {
   "cell_type": "code",
   "execution_count": 16,
   "metadata": {},
   "outputs": [
    {
     "data": {
      "text/plain": [
       "<matplotlib.axes._subplots.AxesSubplot at 0x2265bbb3130>"
      ]
     },
     "execution_count": 16,
     "metadata": {},
     "output_type": "execute_result"
    },
    {
     "data": {
      "image/png": "[encoded data removed]",
      "text/plain": [
       "<Figure size 432x288 with 1 Axes>"
      ]
     },
     "metadata": {
      "needs_background": "light"
     },
     "output_type": "display_data"
    }
   ],
   "source": [
    "#Histogram of Amount.Requensted variable\n",
    "df['Amount.Requested'].plot.hist()"
   ]
  },
  {
   "cell_type": "markdown",
   "metadata": {},
   "source": [
    "The above graph is a right skewed."
   ]
  },
  {
   "cell_type": "code",
   "execution_count": 17,
   "metadata": {},
   "outputs": [
    {
     "data": {
      "text/plain": [
       "<matplotlib.axes._subplots.AxesSubplot at 0x2265bc8c310>"
      ]
     },
     "execution_count": 17,
     "metadata": {},
     "output_type": "execute_result"
    },
    {
     "data": {
      "image/png": "[encoded data removed]",
      "text/plain": [
       "<Figure size 432x288 with 1 Axes>"
      ]
     },
     "metadata": {
      "needs_background": "light"
     },
     "output_type": "display_data"
    }
   ],
   "source": [
    "#Histogram of Amount.Funded.By.Investors\n",
    "df['Amount.Funded.By.Investors'].plot.hist()"
   ]
  },
  {
   "cell_type": "markdown",
   "metadata": {},
   "source": [
    "This is also a right skewed graph"
   ]
  },
  {
   "cell_type": "code",
   "execution_count": 18,
   "metadata": {},
   "outputs": [
    {
     "data": {
      "text/plain": [
       "<matplotlib.axes._subplots.AxesSubplot at 0x2265bd19430>"
      ]
     },
     "execution_count": 18,
     "metadata": {},
     "output_type": "execute_result"
    },
    {
     "data": {
      "image/png": "[encoded data removed]",
      "text/plain": [
       "<Figure size 432x288 with 1 Axes>"
      ]
     },
     "metadata": {
      "needs_background": "light"
     },
     "output_type": "display_data"
    }
   ],
   "source": [
    "#Histogram of Interest.Rate variable\n",
    "df['Interest.Rate'].plot.hist()"
   ]
  },
  {
   "cell_type": "code",
   "execution_count": 19,
   "metadata": {},
   "outputs": [
    {
     "data": {
      "text/plain": [
       "<matplotlib.axes._subplots.AxesSubplot at 0x2265bd8c6d0>"
      ]
     },
     "execution_count": 19,
     "metadata": {},
     "output_type": "execute_result"
    },
    {
     "data": {
      "image/png": "[encoded data removed]",
      "text/plain": [
       "<Figure size 432x288 with 1 Axes>"
      ]
     },
     "metadata": {
      "needs_background": "light"
     },
     "output_type": "display_data"
    }
   ],
   "source": [
    "#Histogram \n",
    "df['Debt.To.Income.Ratio'].plot.hist()"
   ]
  },
  {
   "cell_type": "markdown",
   "metadata": {},
   "source": [
    "It has a normal distribution."
   ]
  },
  {
   "cell_type": "code",
   "execution_count": 20,
   "metadata": {},
   "outputs": [
    {
     "data": {
      "text/plain": [
       "<matplotlib.axes._subplots.AxesSubplot at 0x2265bdf4b20>"
      ]
     },
     "execution_count": 20,
     "metadata": {},
     "output_type": "execute_result"
    },
    {
     "data": {
      "image/png": "[encoded data removed]",
      "text/plain": [
       "<Figure size 432x288 with 1 Axes>"
      ]
     },
     "metadata": {
      "needs_background": "light"
     },
     "output_type": "display_data"
    }
   ],
   "source": [
    "#Histogram of Monthly.Income variable\n",
    "df['Monthly.Income'].plot.hist()"
   ]
  },
  {
   "cell_type": "code",
   "execution_count": 21,
   "metadata": {},
   "outputs": [
    {
     "data": {
      "text/plain": [
       "<matplotlib.axes._subplots.AxesSubplot at 0x2265be5db80>"
      ]
     },
     "execution_count": 21,
     "metadata": {},
     "output_type": "execute_result"
    },
    {
     "data": {
      "image/png": "[encoded data removed]",
      "text/plain": [
       "<Figure size 432x288 with 1 Axes>"
      ]
     },
     "metadata": {
      "needs_background": "light"
     },
     "output_type": "display_data"
    }
   ],
   "source": [
    "#Histogram of Open.CREDIT.Lines plot\n",
    "df['Open.CREDIT.Lines'].plot(kind='hist')"
   ]
  },
  {
   "cell_type": "code",
   "execution_count": 22,
   "metadata": {},
   "outputs": [
    {
     "data": {
      "text/plain": [
       "<matplotlib.axes._subplots.AxesSubplot at 0x2265bec8d60>"
      ]
     },
     "execution_count": 22,
     "metadata": {},
     "output_type": "execute_result"
    },
    {
     "data": {
      "image/png": "[encoded data removed]",
      "text/plain": [
       "<Figure size 432x288 with 1 Axes>"
      ]
     },
     "metadata": {
      "needs_background": "light"
     },
     "output_type": "display_data"
    }
   ],
   "source": [
    "#Histogram of  Revolving.CREDIT.Balance variable\n",
    "df['Revolving.CREDIT.Balance'].plot.hist()"
   ]
  },
  {
   "cell_type": "code",
   "execution_count": 23,
   "metadata": {},
   "outputs": [
    {
     "data": {
      "text/plain": [
       "<matplotlib.axes._subplots.AxesSubplot at 0x226566291c0>"
      ]
     },
     "execution_count": 23,
     "metadata": {},
     "output_type": "execute_result"
    },
    {
     "data": {
      "image/png": "[encoded data removed]",
      "text/plain": [
       "<Figure size 432x288 with 1 Axes>"
      ]
     },
     "metadata": {
      "needs_background": "light"
     },
     "output_type": "display_data"
    }
   ],
   "source": [
    "#Histogram of Inquiries.in.the.Last.6.Months variable\n",
    "df['Inquiries.in.the.Last.6.Months'].plot.hist()"
   ]
  },
  {
   "cell_type": "markdown",
   "metadata": {},
   "source": [
    "### Bivariate Analysis"
   ]
  },
  {
   "cell_type": "code",
   "execution_count": 24,
   "metadata": {},
   "outputs": [
    {
     "data": {
      "text/plain": [
       "<matplotlib.axes._subplots.AxesSubplot at 0x2265bebb5e0>"
      ]
     },
     "execution_count": 24,
     "metadata": {},
     "output_type": "execute_result"
    },
    {
     "data": {
      "image/png": "[encoded data removed]",
      "text/plain": [
       "<Figure size 432x288 with 1 Axes>"
      ]
     },
     "metadata": {
      "needs_background": "light"
     },
     "output_type": "display_data"
    }
   ],
   "source": [
    "#Scatter plot of Amount.Requested and Interest.Rate\n",
    "df.plot.scatter('Amount.Requested', 'Interest.Rate')"
   ]
  },
  {
   "cell_type": "markdown",
   "metadata": {},
   "source": [
    "There is not any visible pattern in above chart"
   ]
  },
  {
   "cell_type": "code",
   "execution_count": 25,
   "metadata": {},
   "outputs": [
    {
     "data": {
      "text/plain": [
       "<matplotlib.axes._subplots.AxesSubplot at 0x2265bffe250>"
      ]
     },
     "execution_count": 25,
     "metadata": {},
     "output_type": "execute_result"
    },
    {
     "data": {
      "image/png": "[encoded data removed]",
      "text/plain": [
       "<Figure size 432x288 with 1 Axes>"
      ]
     },
     "metadata": {
      "needs_background": "light"
     },
     "output_type": "display_data"
    }
   ],
   "source": [
    "#Scatter plot of Amount.Funded.By.Investors and  Interest.Rate\n",
    "df.plot.scatter('Amount.Funded.By.Investors', 'Interest.Rate')"
   ]
  },
  {
   "cell_type": "markdown",
   "metadata": {},
   "source": [
    "We also can't see any pattern in above graph."
   ]
  },
  {
   "cell_type": "code",
   "execution_count": 26,
   "metadata": {},
   "outputs": [
    {
     "data": {
      "text/plain": [
       "<matplotlib.axes._subplots.AxesSubplot at 0x2265bc986d0>"
      ]
     },
     "execution_count": 26,
     "metadata": {},
     "output_type": "execute_result"
    },
    {
     "data": {
      "image/png": "[encoded data removed]",
      "text/plain": [
       "<Figure size 432x288 with 1 Axes>"
      ]
     },
     "metadata": {
      "needs_background": "light"
     },
     "output_type": "display_data"
    }
   ],
   "source": [
    "#Scatter plot of Interest.Rate and Monthly.Income\n",
    "df.plot.scatter('Monthly.Income', 'Interest.Rate')"
   ]
  },
  {
   "cell_type": "code",
   "execution_count": 27,
   "metadata": {},
   "outputs": [
    {
     "data": {
      "text/html": [
       "<div>\n",
       "<style scoped>\n",
       "    .dataframe tbody tr th:only-of-type {\n",
       "        vertical-align: middle;\n",
       "    }\n",
       "\n",
       "    .dataframe tbody tr th {\n",
       "        vertical-align: top;\n",
       "    }\n",
       "\n",
       "    .dataframe thead th {\n",
       "        text-align: right;\n",
       "    }\n",
       "</style>\n",
       "<table border=\"1\" class=\"dataframe\">\n",
       "  <thead>\n",
       "    <tr style=\"text-align: right;\">\n",
       "      <th></th>\n",
       "      <th>Amount.Requested</th>\n",
       "      <th>Amount.Funded.By.Investors</th>\n",
       "      <th>Interest.Rate</th>\n",
       "      <th>Debt.To.Income.Ratio</th>\n",
       "      <th>Monthly.Income</th>\n",
       "      <th>Open.CREDIT.Lines</th>\n",
       "      <th>Revolving.CREDIT.Balance</th>\n",
       "      <th>Inquiries.in.the.Last.6.Months</th>\n",
       "    </tr>\n",
       "  </thead>\n",
       "  <tbody>\n",
       "    <tr>\n",
       "      <th>Amount.Requested</th>\n",
       "      <td>1.000000</td>\n",
       "      <td>0.963513</td>\n",
       "      <td>0.332005</td>\n",
       "      <td>0.086600</td>\n",
       "      <td>0.384409</td>\n",
       "      <td>0.191949</td>\n",
       "      <td>0.299523</td>\n",
       "      <td>-0.035035</td>\n",
       "    </tr>\n",
       "    <tr>\n",
       "      <th>Amount.Funded.By.Investors</th>\n",
       "      <td>0.963513</td>\n",
       "      <td>1.000000</td>\n",
       "      <td>0.337188</td>\n",
       "      <td>0.103740</td>\n",
       "      <td>0.365999</td>\n",
       "      <td>0.184912</td>\n",
       "      <td>0.269063</td>\n",
       "      <td>-0.074308</td>\n",
       "    </tr>\n",
       "    <tr>\n",
       "      <th>Interest.Rate</th>\n",
       "      <td>0.332005</td>\n",
       "      <td>0.337188</td>\n",
       "      <td>1.000000</td>\n",
       "      <td>0.171265</td>\n",
       "      <td>0.012732</td>\n",
       "      <td>0.092184</td>\n",
       "      <td>0.067669</td>\n",
       "      <td>0.159158</td>\n",
       "    </tr>\n",
       "    <tr>\n",
       "      <th>Debt.To.Income.Ratio</th>\n",
       "      <td>0.086600</td>\n",
       "      <td>0.103740</td>\n",
       "      <td>0.171265</td>\n",
       "      <td>1.000000</td>\n",
       "      <td>-0.166004</td>\n",
       "      <td>0.374283</td>\n",
       "      <td>0.186671</td>\n",
       "      <td>0.009953</td>\n",
       "    </tr>\n",
       "    <tr>\n",
       "      <th>Monthly.Income</th>\n",
       "      <td>0.384409</td>\n",
       "      <td>0.365999</td>\n",
       "      <td>0.012732</td>\n",
       "      <td>-0.166004</td>\n",
       "      <td>1.000000</td>\n",
       "      <td>0.162137</td>\n",
       "      <td>0.360178</td>\n",
       "      <td>0.032193</td>\n",
       "    </tr>\n",
       "    <tr>\n",
       "      <th>Open.CREDIT.Lines</th>\n",
       "      <td>0.191949</td>\n",
       "      <td>0.184912</td>\n",
       "      <td>0.092184</td>\n",
       "      <td>0.374283</td>\n",
       "      <td>0.162137</td>\n",
       "      <td>1.000000</td>\n",
       "      <td>0.287585</td>\n",
       "      <td>0.110564</td>\n",
       "    </tr>\n",
       "    <tr>\n",
       "      <th>Revolving.CREDIT.Balance</th>\n",
       "      <td>0.299523</td>\n",
       "      <td>0.269063</td>\n",
       "      <td>0.067669</td>\n",
       "      <td>0.186671</td>\n",
       "      <td>0.360178</td>\n",
       "      <td>0.287585</td>\n",
       "      <td>1.000000</td>\n",
       "      <td>0.012159</td>\n",
       "    </tr>\n",
       "    <tr>\n",
       "      <th>Inquiries.in.the.Last.6.Months</th>\n",
       "      <td>-0.035035</td>\n",
       "      <td>-0.074308</td>\n",
       "      <td>0.159158</td>\n",
       "      <td>0.009953</td>\n",
       "      <td>0.032193</td>\n",
       "      <td>0.110564</td>\n",
       "      <td>0.012159</td>\n",
       "      <td>1.000000</td>\n",
       "    </tr>\n",
       "  </tbody>\n",
       "</table>\n",
       "</div>"
      ],
      "text/plain": [
       "                                Amount.Requested  Amount.Funded.By.Investors  \\\n",
       "Amount.Requested                        1.000000                    0.963513   \n",
       "Amount.Funded.By.Investors              0.963513                    1.000000   \n",
       "Interest.Rate                           0.332005                    0.337188   \n",
       "Debt.To.Income.Ratio                    0.086600                    0.103740   \n",
       "Monthly.Income                          0.384409                    0.365999   \n",
       "Open.CREDIT.Lines                       0.191949                    0.184912   \n",
       "Revolving.CREDIT.Balance                0.299523                    0.269063   \n",
       "Inquiries.in.the.Last.6.Months         -0.035035                   -0.074308   \n",
       "\n",
       "                                Interest.Rate  Debt.To.Income.Ratio  \\\n",
       "Amount.Requested                     0.332005              0.086600   \n",
       "Amount.Funded.By.Investors           0.337188              0.103740   \n",
       "Interest.Rate                        1.000000              0.171265   \n",
       "Debt.To.Income.Ratio                 0.171265              1.000000   \n",
       "Monthly.Income                       0.012732             -0.166004   \n",
       "Open.CREDIT.Lines                    0.092184              0.374283   \n",
       "Revolving.CREDIT.Balance             0.067669              0.186671   \n",
       "Inquiries.in.the.Last.6.Months       0.159158              0.009953   \n",
       "\n",
       "                                Monthly.Income  Open.CREDIT.Lines  \\\n",
       "Amount.Requested                      0.384409           0.191949   \n",
       "Amount.Funded.By.Investors            0.365999           0.184912   \n",
       "Interest.Rate                         0.012732           0.092184   \n",
       "Debt.To.Income.Ratio                 -0.166004           0.374283   \n",
       "Monthly.Income                        1.000000           0.162137   \n",
       "Open.CREDIT.Lines                     0.162137           1.000000   \n",
       "Revolving.CREDIT.Balance              0.360178           0.287585   \n",
       "Inquiries.in.the.Last.6.Months        0.032193           0.110564   \n",
       "\n",
       "                                Revolving.CREDIT.Balance  \\\n",
       "Amount.Requested                                0.299523   \n",
       "Amount.Funded.By.Investors                      0.269063   \n",
       "Interest.Rate                                   0.067669   \n",
       "Debt.To.Income.Ratio                            0.186671   \n",
       "Monthly.Income                                  0.360178   \n",
       "Open.CREDIT.Lines                               0.287585   \n",
       "Revolving.CREDIT.Balance                        1.000000   \n",
       "Inquiries.in.the.Last.6.Months                  0.012159   \n",
       "\n",
       "                                Inquiries.in.the.Last.6.Months  \n",
       "Amount.Requested                                     -0.035035  \n",
       "Amount.Funded.By.Investors                           -0.074308  \n",
       "Interest.Rate                                         0.159158  \n",
       "Debt.To.Income.Ratio                                  0.009953  \n",
       "Monthly.Income                                        0.032193  \n",
       "Open.CREDIT.Lines                                     0.110564  \n",
       "Revolving.CREDIT.Balance                              0.012159  \n",
       "Inquiries.in.the.Last.6.Months                        1.000000  "
      ]
     },
     "execution_count": 27,
     "metadata": {},
     "output_type": "execute_result"
    }
   ],
   "source": [
    "#Find the correlation between variables\n",
    "df.corr()"
   ]
  },
  {
   "cell_type": "code",
   "execution_count": 28,
   "metadata": {},
   "outputs": [
    {
     "data": {
      "text/plain": [
       "<matplotlib.axes._subplots.AxesSubplot at 0x2265c0a3ac0>"
      ]
     },
     "execution_count": 28,
     "metadata": {},
     "output_type": "execute_result"
    },
    {
     "data": {
      "image/png": "[encoded data removed]",
      "text/plain": [
       "<Figure size 1008x720 with 2 Axes>"
      ]
     },
     "metadata": {
      "needs_background": "light"
     },
     "output_type": "display_data"
    }
   ],
   "source": [
    "#Let's visualize the relationship through heatmap\n",
    "plt.figure(figsize=(14, 10))\n",
    "sns.heatmap(df.corr(), annot=True)"
   ]
  },
  {
   "cell_type": "markdown",
   "metadata": {},
   "source": [
    "### Seperate Numerical and Categorical variables"
   ]
  },
  {
   "cell_type": "markdown",
   "metadata": {},
   "source": [
    "#### Numerical variables"
   ]
  },
  {
   "cell_type": "code",
   "execution_count": 29,
   "metadata": {},
   "outputs": [],
   "source": [
    "df_num = df[['Amount.Requested', 'Amount.Funded.By.Investors', 'Interest.Rate',\n",
    "             'Debt.To.Income.Ratio', 'Monthly.Income', 'Open.CREDIT.Lines',\n",
    "             'Revolving.CREDIT.Balance', 'Inquiries.in.the.Last.6.Months']]"
   ]
  },
  {
   "cell_type": "markdown",
   "metadata": {},
   "source": [
    "#### Categorical variables"
   ]
  },
  {
   "cell_type": "code",
   "execution_count": 30,
   "metadata": {},
   "outputs": [],
   "source": [
    "df_cat = df[['Loan.Length', 'Loan.Purpose', 'Home.Ownership', 'Employment.Length']]"
   ]
  },
  {
   "cell_type": "markdown",
   "metadata": {},
   "source": [
    "### Create Dummy variables"
   ]
  },
  {
   "cell_type": "code",
   "execution_count": 31,
   "metadata": {},
   "outputs": [
    {
     "data": {
      "text/html": [
       "<div>\n",
       "<style scoped>\n",
       "    .dataframe tbody tr th:only-of-type {\n",
       "        vertical-align: middle;\n",
       "    }\n",
       "\n",
       "    .dataframe tbody tr th {\n",
       "        vertical-align: top;\n",
       "    }\n",
       "\n",
       "    .dataframe thead th {\n",
       "        text-align: right;\n",
       "    }\n",
       "</style>\n",
       "<table border=\"1\" class=\"dataframe\">\n",
       "  <thead>\n",
       "    <tr style=\"text-align: right;\">\n",
       "      <th></th>\n",
       "      <th>Loan.Length_36 months</th>\n",
       "      <th>Loan.Length_60 months</th>\n",
       "      <th>Loan.Purpose_car</th>\n",
       "      <th>Loan.Purpose_credit_card</th>\n",
       "      <th>Loan.Purpose_debt_consolidation</th>\n",
       "      <th>Loan.Purpose_educational</th>\n",
       "      <th>Loan.Purpose_home_improvement</th>\n",
       "      <th>Loan.Purpose_house</th>\n",
       "      <th>Loan.Purpose_major_purchase</th>\n",
       "      <th>Loan.Purpose_medical</th>\n",
       "      <th>...</th>\n",
       "      <th>Employment.Length_1 year</th>\n",
       "      <th>Employment.Length_10+ years</th>\n",
       "      <th>Employment.Length_2 years</th>\n",
       "      <th>Employment.Length_3 years</th>\n",
       "      <th>Employment.Length_4 years</th>\n",
       "      <th>Employment.Length_5 years</th>\n",
       "      <th>Employment.Length_6 years</th>\n",
       "      <th>Employment.Length_7 years</th>\n",
       "      <th>Employment.Length_8 years</th>\n",
       "      <th>Employment.Length_9 years</th>\n",
       "    </tr>\n",
       "  </thead>\n",
       "  <tbody>\n",
       "    <tr>\n",
       "      <th>0</th>\n",
       "      <td>1</td>\n",
       "      <td>0</td>\n",
       "      <td>0</td>\n",
       "      <td>0</td>\n",
       "      <td>1</td>\n",
       "      <td>0</td>\n",
       "      <td>0</td>\n",
       "      <td>0</td>\n",
       "      <td>0</td>\n",
       "      <td>0</td>\n",
       "      <td>...</td>\n",
       "      <td>1</td>\n",
       "      <td>0</td>\n",
       "      <td>0</td>\n",
       "      <td>0</td>\n",
       "      <td>0</td>\n",
       "      <td>0</td>\n",
       "      <td>0</td>\n",
       "      <td>0</td>\n",
       "      <td>0</td>\n",
       "      <td>0</td>\n",
       "    </tr>\n",
       "    <tr>\n",
       "      <th>1</th>\n",
       "      <td>1</td>\n",
       "      <td>0</td>\n",
       "      <td>0</td>\n",
       "      <td>0</td>\n",
       "      <td>1</td>\n",
       "      <td>0</td>\n",
       "      <td>0</td>\n",
       "      <td>0</td>\n",
       "      <td>0</td>\n",
       "      <td>0</td>\n",
       "      <td>...</td>\n",
       "      <td>0</td>\n",
       "      <td>0</td>\n",
       "      <td>1</td>\n",
       "      <td>0</td>\n",
       "      <td>0</td>\n",
       "      <td>0</td>\n",
       "      <td>0</td>\n",
       "      <td>0</td>\n",
       "      <td>0</td>\n",
       "      <td>0</td>\n",
       "    </tr>\n",
       "    <tr>\n",
       "      <th>2</th>\n",
       "      <td>0</td>\n",
       "      <td>1</td>\n",
       "      <td>0</td>\n",
       "      <td>0</td>\n",
       "      <td>1</td>\n",
       "      <td>0</td>\n",
       "      <td>0</td>\n",
       "      <td>0</td>\n",
       "      <td>0</td>\n",
       "      <td>0</td>\n",
       "      <td>...</td>\n",
       "      <td>0</td>\n",
       "      <td>0</td>\n",
       "      <td>1</td>\n",
       "      <td>0</td>\n",
       "      <td>0</td>\n",
       "      <td>0</td>\n",
       "      <td>0</td>\n",
       "      <td>0</td>\n",
       "      <td>0</td>\n",
       "      <td>0</td>\n",
       "    </tr>\n",
       "    <tr>\n",
       "      <th>3</th>\n",
       "      <td>1</td>\n",
       "      <td>0</td>\n",
       "      <td>0</td>\n",
       "      <td>0</td>\n",
       "      <td>1</td>\n",
       "      <td>0</td>\n",
       "      <td>0</td>\n",
       "      <td>0</td>\n",
       "      <td>0</td>\n",
       "      <td>0</td>\n",
       "      <td>...</td>\n",
       "      <td>0</td>\n",
       "      <td>0</td>\n",
       "      <td>0</td>\n",
       "      <td>0</td>\n",
       "      <td>0</td>\n",
       "      <td>1</td>\n",
       "      <td>0</td>\n",
       "      <td>0</td>\n",
       "      <td>0</td>\n",
       "      <td>0</td>\n",
       "    </tr>\n",
       "    <tr>\n",
       "      <th>4</th>\n",
       "      <td>1</td>\n",
       "      <td>0</td>\n",
       "      <td>0</td>\n",
       "      <td>1</td>\n",
       "      <td>0</td>\n",
       "      <td>0</td>\n",
       "      <td>0</td>\n",
       "      <td>0</td>\n",
       "      <td>0</td>\n",
       "      <td>0</td>\n",
       "      <td>...</td>\n",
       "      <td>0</td>\n",
       "      <td>0</td>\n",
       "      <td>0</td>\n",
       "      <td>0</td>\n",
       "      <td>0</td>\n",
       "      <td>0</td>\n",
       "      <td>0</td>\n",
       "      <td>0</td>\n",
       "      <td>0</td>\n",
       "      <td>1</td>\n",
       "    </tr>\n",
       "  </tbody>\n",
       "</table>\n",
       "<p>5 rows × 30 columns</p>\n",
       "</div>"
      ],
      "text/plain": [
       "   Loan.Length_36 months  Loan.Length_60 months  Loan.Purpose_car  \\\n",
       "0                      1                      0                 0   \n",
       "1                      1                      0                 0   \n",
       "2                      0                      1                 0   \n",
       "3                      1                      0                 0   \n",
       "4                      1                      0                 0   \n",
       "\n",
       "   Loan.Purpose_credit_card  Loan.Purpose_debt_consolidation  \\\n",
       "0                         0                                1   \n",
       "1                         0                                1   \n",
       "2                         0                                1   \n",
       "3                         0                                1   \n",
       "4                         1                                0   \n",
       "\n",
       "   Loan.Purpose_educational  Loan.Purpose_home_improvement  \\\n",
       "0                         0                              0   \n",
       "1                         0                              0   \n",
       "2                         0                              0   \n",
       "3                         0                              0   \n",
       "4                         0                              0   \n",
       "\n",
       "   Loan.Purpose_house  Loan.Purpose_major_purchase  Loan.Purpose_medical  ...  \\\n",
       "0                   0                            0                     0  ...   \n",
       "1                   0                            0                     0  ...   \n",
       "2                   0                            0                     0  ...   \n",
       "3                   0                            0                     0  ...   \n",
       "4                   0                            0                     0  ...   \n",
       "\n",
       "   Employment.Length_1 year  Employment.Length_10+ years  \\\n",
       "0                         1                            0   \n",
       "1                         0                            0   \n",
       "2                         0                            0   \n",
       "3                         0                            0   \n",
       "4                         0                            0   \n",
       "\n",
       "   Employment.Length_2 years  Employment.Length_3 years  \\\n",
       "0                          0                          0   \n",
       "1                          1                          0   \n",
       "2                          1                          0   \n",
       "3                          0                          0   \n",
       "4                          0                          0   \n",
       "\n",
       "   Employment.Length_4 years  Employment.Length_5 years  \\\n",
       "0                          0                          0   \n",
       "1                          0                          0   \n",
       "2                          0                          0   \n",
       "3                          0                          1   \n",
       "4                          0                          0   \n",
       "\n",
       "   Employment.Length_6 years  Employment.Length_7 years  \\\n",
       "0                          0                          0   \n",
       "1                          0                          0   \n",
       "2                          0                          0   \n",
       "3                          0                          0   \n",
       "4                          0                          0   \n",
       "\n",
       "   Employment.Length_8 years  Employment.Length_9 years  \n",
       "0                          0                          0  \n",
       "1                          0                          0  \n",
       "2                          0                          0  \n",
       "3                          0                          0  \n",
       "4                          0                          1  \n",
       "\n",
       "[5 rows x 30 columns]"
      ]
     },
     "execution_count": 31,
     "metadata": {},
     "output_type": "execute_result"
    }
   ],
   "source": [
    "dummy_df = pd.get_dummies(df_cat)\n",
    "dummy_df.head()"
   ]
  },
  {
   "cell_type": "markdown",
   "metadata": {},
   "source": [
    "### Concat Dummy variables and  Numerical variables"
   ]
  },
  {
   "cell_type": "code",
   "execution_count": 32,
   "metadata": {},
   "outputs": [
    {
     "data": {
      "text/html": [
       "<div>\n",
       "<style scoped>\n",
       "    .dataframe tbody tr th:only-of-type {\n",
       "        vertical-align: middle;\n",
       "    }\n",
       "\n",
       "    .dataframe tbody tr th {\n",
       "        vertical-align: top;\n",
       "    }\n",
       "\n",
       "    .dataframe thead th {\n",
       "        text-align: right;\n",
       "    }\n",
       "</style>\n",
       "<table border=\"1\" class=\"dataframe\">\n",
       "  <thead>\n",
       "    <tr style=\"text-align: right;\">\n",
       "      <th></th>\n",
       "      <th>Amount.Requested</th>\n",
       "      <th>Amount.Funded.By.Investors</th>\n",
       "      <th>Interest.Rate</th>\n",
       "      <th>Debt.To.Income.Ratio</th>\n",
       "      <th>Monthly.Income</th>\n",
       "      <th>Open.CREDIT.Lines</th>\n",
       "      <th>Revolving.CREDIT.Balance</th>\n",
       "      <th>Inquiries.in.the.Last.6.Months</th>\n",
       "      <th>Loan.Length_36 months</th>\n",
       "      <th>Loan.Length_60 months</th>\n",
       "      <th>...</th>\n",
       "      <th>Employment.Length_1 year</th>\n",
       "      <th>Employment.Length_10+ years</th>\n",
       "      <th>Employment.Length_2 years</th>\n",
       "      <th>Employment.Length_3 years</th>\n",
       "      <th>Employment.Length_4 years</th>\n",
       "      <th>Employment.Length_5 years</th>\n",
       "      <th>Employment.Length_6 years</th>\n",
       "      <th>Employment.Length_7 years</th>\n",
       "      <th>Employment.Length_8 years</th>\n",
       "      <th>Employment.Length_9 years</th>\n",
       "    </tr>\n",
       "  </thead>\n",
       "  <tbody>\n",
       "    <tr>\n",
       "      <th>0</th>\n",
       "      <td>20000</td>\n",
       "      <td>20000.0</td>\n",
       "      <td>0.09</td>\n",
       "      <td>0.15</td>\n",
       "      <td>6541.67</td>\n",
       "      <td>14</td>\n",
       "      <td>14272</td>\n",
       "      <td>2</td>\n",
       "      <td>1</td>\n",
       "      <td>0</td>\n",
       "      <td>...</td>\n",
       "      <td>1</td>\n",
       "      <td>0</td>\n",
       "      <td>0</td>\n",
       "      <td>0</td>\n",
       "      <td>0</td>\n",
       "      <td>0</td>\n",
       "      <td>0</td>\n",
       "      <td>0</td>\n",
       "      <td>0</td>\n",
       "      <td>0</td>\n",
       "    </tr>\n",
       "    <tr>\n",
       "      <th>1</th>\n",
       "      <td>19200</td>\n",
       "      <td>19200.0</td>\n",
       "      <td>0.12</td>\n",
       "      <td>0.28</td>\n",
       "      <td>4583.33</td>\n",
       "      <td>12</td>\n",
       "      <td>11140</td>\n",
       "      <td>1</td>\n",
       "      <td>1</td>\n",
       "      <td>0</td>\n",
       "      <td>...</td>\n",
       "      <td>0</td>\n",
       "      <td>0</td>\n",
       "      <td>1</td>\n",
       "      <td>0</td>\n",
       "      <td>0</td>\n",
       "      <td>0</td>\n",
       "      <td>0</td>\n",
       "      <td>0</td>\n",
       "      <td>0</td>\n",
       "      <td>0</td>\n",
       "    </tr>\n",
       "    <tr>\n",
       "      <th>2</th>\n",
       "      <td>35000</td>\n",
       "      <td>35000.0</td>\n",
       "      <td>0.22</td>\n",
       "      <td>0.24</td>\n",
       "      <td>11500.00</td>\n",
       "      <td>14</td>\n",
       "      <td>21977</td>\n",
       "      <td>1</td>\n",
       "      <td>0</td>\n",
       "      <td>1</td>\n",
       "      <td>...</td>\n",
       "      <td>0</td>\n",
       "      <td>0</td>\n",
       "      <td>1</td>\n",
       "      <td>0</td>\n",
       "      <td>0</td>\n",
       "      <td>0</td>\n",
       "      <td>0</td>\n",
       "      <td>0</td>\n",
       "      <td>0</td>\n",
       "      <td>0</td>\n",
       "    </tr>\n",
       "    <tr>\n",
       "      <th>3</th>\n",
       "      <td>10000</td>\n",
       "      <td>9975.0</td>\n",
       "      <td>0.10</td>\n",
       "      <td>0.14</td>\n",
       "      <td>3833.33</td>\n",
       "      <td>10</td>\n",
       "      <td>9346</td>\n",
       "      <td>0</td>\n",
       "      <td>1</td>\n",
       "      <td>0</td>\n",
       "      <td>...</td>\n",
       "      <td>0</td>\n",
       "      <td>0</td>\n",
       "      <td>0</td>\n",
       "      <td>0</td>\n",
       "      <td>0</td>\n",
       "      <td>1</td>\n",
       "      <td>0</td>\n",
       "      <td>0</td>\n",
       "      <td>0</td>\n",
       "      <td>0</td>\n",
       "    </tr>\n",
       "    <tr>\n",
       "      <th>4</th>\n",
       "      <td>12000</td>\n",
       "      <td>12000.0</td>\n",
       "      <td>0.12</td>\n",
       "      <td>0.19</td>\n",
       "      <td>3195.00</td>\n",
       "      <td>11</td>\n",
       "      <td>14469</td>\n",
       "      <td>0</td>\n",
       "      <td>1</td>\n",
       "      <td>0</td>\n",
       "      <td>...</td>\n",
       "      <td>0</td>\n",
       "      <td>0</td>\n",
       "      <td>0</td>\n",
       "      <td>0</td>\n",
       "      <td>0</td>\n",
       "      <td>0</td>\n",
       "      <td>0</td>\n",
       "      <td>0</td>\n",
       "      <td>0</td>\n",
       "      <td>1</td>\n",
       "    </tr>\n",
       "  </tbody>\n",
       "</table>\n",
       "<p>5 rows × 38 columns</p>\n",
       "</div>"
      ],
      "text/plain": [
       "   Amount.Requested  Amount.Funded.By.Investors  Interest.Rate  \\\n",
       "0             20000                     20000.0           0.09   \n",
       "1             19200                     19200.0           0.12   \n",
       "2             35000                     35000.0           0.22   \n",
       "3             10000                      9975.0           0.10   \n",
       "4             12000                     12000.0           0.12   \n",
       "\n",
       "   Debt.To.Income.Ratio  Monthly.Income  Open.CREDIT.Lines  \\\n",
       "0                  0.15         6541.67                 14   \n",
       "1                  0.28         4583.33                 12   \n",
       "2                  0.24        11500.00                 14   \n",
       "3                  0.14         3833.33                 10   \n",
       "4                  0.19         3195.00                 11   \n",
       "\n",
       "   Revolving.CREDIT.Balance  Inquiries.in.the.Last.6.Months  \\\n",
       "0                     14272                               2   \n",
       "1                     11140                               1   \n",
       "2                     21977                               1   \n",
       "3                      9346                               0   \n",
       "4                     14469                               0   \n",
       "\n",
       "   Loan.Length_36 months  Loan.Length_60 months  ...  \\\n",
       "0                      1                      0  ...   \n",
       "1                      1                      0  ...   \n",
       "2                      0                      1  ...   \n",
       "3                      1                      0  ...   \n",
       "4                      1                      0  ...   \n",
       "\n",
       "   Employment.Length_1 year  Employment.Length_10+ years  \\\n",
       "0                         1                            0   \n",
       "1                         0                            0   \n",
       "2                         0                            0   \n",
       "3                         0                            0   \n",
       "4                         0                            0   \n",
       "\n",
       "   Employment.Length_2 years  Employment.Length_3 years  \\\n",
       "0                          0                          0   \n",
       "1                          1                          0   \n",
       "2                          1                          0   \n",
       "3                          0                          0   \n",
       "4                          0                          0   \n",
       "\n",
       "   Employment.Length_4 years  Employment.Length_5 years  \\\n",
       "0                          0                          0   \n",
       "1                          0                          0   \n",
       "2                          0                          0   \n",
       "3                          0                          1   \n",
       "4                          0                          0   \n",
       "\n",
       "   Employment.Length_6 years  Employment.Length_7 years  \\\n",
       "0                          0                          0   \n",
       "1                          0                          0   \n",
       "2                          0                          0   \n",
       "3                          0                          0   \n",
       "4                          0                          0   \n",
       "\n",
       "   Employment.Length_8 years  Employment.Length_9 years  \n",
       "0                          0                          0  \n",
       "1                          0                          0  \n",
       "2                          0                          0  \n",
       "3                          0                          0  \n",
       "4                          0                          1  \n",
       "\n",
       "[5 rows x 38 columns]"
      ]
     },
     "execution_count": 32,
     "metadata": {},
     "output_type": "execute_result"
    }
   ],
   "source": [
    "df = pd.concat([df_num, dummy_df], axis=1)\n",
    "df.head()"
   ]
  },
  {
   "cell_type": "markdown",
   "metadata": {},
   "source": [
    "## Step 3: Split the data intoTrain set and Test set"
   ]
  },
  {
   "cell_type": "code",
   "execution_count": 33,
   "metadata": {},
   "outputs": [],
   "source": [
    "#Sepereate Independent and Dependent variables\n",
    "X = df.drop('Interest.Rate', axis=1)\n",
    "y = df['Interest.Rate']"
   ]
  },
  {
   "cell_type": "code",
   "execution_count": 34,
   "metadata": {},
   "outputs": [],
   "source": [
    "#Create train and test set\n",
    "from sklearn.model_selection import train_test_split\n",
    "X_train, X_test, y_train, y_test = train_test_split(X, y, test_size=0.3, random_state=11)"
   ]
  },
  {
   "cell_type": "markdown",
   "metadata": {},
   "source": [
    "## Step 4: Implement Linear Regression"
   ]
  },
  {
   "cell_type": "code",
   "execution_count": 35,
   "metadata": {},
   "outputs": [],
   "source": [
    "from sklearn.linear_model import LinearRegression"
   ]
  },
  {
   "cell_type": "code",
   "execution_count": 36,
   "metadata": {},
   "outputs": [],
   "source": [
    "#Create an instance of LinearRegression\n",
    "lr = LinearRegression(normalize=True)"
   ]
  },
  {
   "cell_type": "code",
   "execution_count": 37,
   "metadata": {},
   "outputs": [
    {
     "data": {
      "text/plain": [
       "LinearRegression(normalize=True)"
      ]
     },
     "execution_count": 37,
     "metadata": {},
     "output_type": "execute_result"
    }
   ],
   "source": [
    "#Fit the model to the train set\n",
    "lr.fit(X_train, y_train)"
   ]
  },
  {
   "cell_type": "markdown",
   "metadata": {},
   "source": [
    "## Step 5: Make Predictions"
   ]
  },
  {
   "cell_type": "code",
   "execution_count": 38,
   "metadata": {},
   "outputs": [],
   "source": [
    "#Make predictions over a train set\n",
    "train_pred = lr.predict(X_train)"
   ]
  },
  {
   "cell_type": "code",
   "execution_count": 39,
   "metadata": {},
   "outputs": [],
   "source": [
    "#Make predictions over a test set\n",
    "test_pred = lr.predict(X_test)"
   ]
  },
  {
   "cell_type": "markdown",
   "metadata": {},
   "source": [
    "## Step 6: Evaluate the Model"
   ]
  },
  {
   "cell_type": "code",
   "execution_count": 40,
   "metadata": {},
   "outputs": [],
   "source": [
    "from sklearn.metrics import r2_score, mean_squared_error"
   ]
  },
  {
   "cell_type": "code",
   "execution_count": 41,
   "metadata": {},
   "outputs": [
    {
     "name": "stdout",
     "output_type": "stream",
     "text": [
      "Train R Square :  0.3174418929639684\n",
      "Train Mean Squared Error :  0.001175591388549083\n"
     ]
    }
   ],
   "source": [
    "#Calculate R square and Mean Squared Error for train \n",
    "print(\"Train R Square : \", r2_score(y_train, train_pred))\n",
    "print(\"Train Mean Squared Error : \", mean_squared_error(y_train, train_pred))"
   ]
  },
  {
   "cell_type": "code",
   "execution_count": 42,
   "metadata": {},
   "outputs": [
    {
     "name": "stdout",
     "output_type": "stream",
     "text": [
      "Test R Square :  0.26489999455897495\n",
      "Test Mean Squared Error :  0.0011914317058794427\n"
     ]
    }
   ],
   "source": [
    "#Calculate R square and Mean Squared Error for test\n",
    "print(\"Test R Square : \", r2_score(y_test, test_pred))\n",
    "print(\"Test Mean Squared Error : \", mean_squared_error(y_test, test_pred))"
   ]
  }
 ],
 "metadata": {
  "kernelspec": {
   "display_name": "Python 3",
   "language": "python",
   "name": "python3"
  },
  "language_info": {
   "codemirror_mode": {
    "name": "ipython",
    "version": 3
   },
   "file_extension": ".py",
   "mimetype": "text/x-python",
   "name": "python",
   "nbconvert_exporter": "python",
   "pygments_lexer": "ipython3",
   "version": "3.8.3"
  }
 },
 "nbformat": 4,
 "nbformat_minor": 4
}
